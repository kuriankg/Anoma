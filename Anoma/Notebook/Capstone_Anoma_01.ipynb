{
 "cells": [
  {
   "cell_type": "markdown",
   "id": "7894e4dd-f28a-4680-aeaa-f56fe6f20d4e",
   "metadata": {},
   "source": [
    "Predicting the Machine failure"
   ]
  },
  {
   "cell_type": "markdown",
   "id": "f79b92d5-5a04-42ab-b52a-4a425d67fe02",
   "metadata": {},
   "source": [
    "Target column y"
   ]
  },
  {
   "cell_type": "markdown",
   "id": "afd9b699-713e-4fbd-9955-3235983ac76c",
   "metadata": {},
   "source": [
    "y=1 There is anomaly;\n",
    "y=0 There is no anomaly"
   ]
  },
  {
   "cell_type": "raw",
   "id": "68857ced-ebe6-4f97-a700-0a04c77a2ff6",
   "metadata": {},
   "source": [
    "import libraries"
   ]
  },
  {
   "cell_type": "code",
   "execution_count": 3,
   "id": "39850c31-048b-4968-8910-c9423fb03658",
   "metadata": {},
   "outputs": [],
   "source": [
    "import pandas as pd\n",
    "import numpy as np\n",
    "import matplotlib.pyplot as plt\n",
    "import seaborn as sns"
   ]
  },
  {
   "cell_type": "markdown",
   "id": "51ec78bb-2b72-4a61-a982-5b51d33d74a0",
   "metadata": {},
   "source": [
    "Loading the data"
   ]
  },
  {
   "cell_type": "code",
   "execution_count": 34,
   "id": "a7529c64-f25e-487c-abbd-3f4eb59ddb3f",
   "metadata": {},
   "outputs": [],
   "source": [
    "df=pd.read_excel(\"/Users/kuriankgeorge/Desktop/aws/Capstone/01_Anoma/data/AnomaData.xlsx\")"
   ]
  },
  {
   "cell_type": "code",
   "execution_count": 6,
   "id": "cb5233d7-ce69-4024-97b6-fc2fa196d059",
   "metadata": {},
   "outputs": [
    {
     "data": {
      "text/html": [
       "<div>\n",
       "<style scoped>\n",
       "    .dataframe tbody tr th:only-of-type {\n",
       "        vertical-align: middle;\n",
       "    }\n",
       "\n",
       "    .dataframe tbody tr th {\n",
       "        vertical-align: top;\n",
       "    }\n",
       "\n",
       "    .dataframe thead th {\n",
       "        text-align: right;\n",
       "    }\n",
       "</style>\n",
       "<table border=\"1\" class=\"dataframe\">\n",
       "  <thead>\n",
       "    <tr style=\"text-align: right;\">\n",
       "      <th></th>\n",
       "      <th>time</th>\n",
       "      <th>y</th>\n",
       "      <th>x1</th>\n",
       "      <th>x2</th>\n",
       "      <th>x3</th>\n",
       "      <th>x4</th>\n",
       "      <th>x5</th>\n",
       "      <th>x6</th>\n",
       "      <th>x7</th>\n",
       "      <th>x8</th>\n",
       "      <th>...</th>\n",
       "      <th>x51</th>\n",
       "      <th>x52</th>\n",
       "      <th>x54</th>\n",
       "      <th>x55</th>\n",
       "      <th>x56</th>\n",
       "      <th>x57</th>\n",
       "      <th>x58</th>\n",
       "      <th>x59</th>\n",
       "      <th>x60</th>\n",
       "      <th>y.1</th>\n",
       "    </tr>\n",
       "  </thead>\n",
       "  <tbody>\n",
       "    <tr>\n",
       "      <th>0</th>\n",
       "      <td>1999-05-01 00:00:00</td>\n",
       "      <td>0</td>\n",
       "      <td>0.376665</td>\n",
       "      <td>-4.596435</td>\n",
       "      <td>-4.095756</td>\n",
       "      <td>13.497687</td>\n",
       "      <td>-0.118830</td>\n",
       "      <td>-20.669883</td>\n",
       "      <td>0.000732</td>\n",
       "      <td>-0.061114</td>\n",
       "      <td>...</td>\n",
       "      <td>29.984624</td>\n",
       "      <td>10.091721</td>\n",
       "      <td>-4.936434</td>\n",
       "      <td>-24.590146</td>\n",
       "      <td>18.515436</td>\n",
       "      <td>3.473400</td>\n",
       "      <td>0.033444</td>\n",
       "      <td>0.953219</td>\n",
       "      <td>0.006076</td>\n",
       "      <td>0</td>\n",
       "    </tr>\n",
       "    <tr>\n",
       "      <th>1</th>\n",
       "      <td>1999-05-01 00:02:00</td>\n",
       "      <td>0</td>\n",
       "      <td>0.475720</td>\n",
       "      <td>-4.542502</td>\n",
       "      <td>-4.018359</td>\n",
       "      <td>16.230659</td>\n",
       "      <td>-0.128733</td>\n",
       "      <td>-18.758079</td>\n",
       "      <td>0.000732</td>\n",
       "      <td>-0.061114</td>\n",
       "      <td>...</td>\n",
       "      <td>29.984624</td>\n",
       "      <td>10.095871</td>\n",
       "      <td>-4.937179</td>\n",
       "      <td>-32.413266</td>\n",
       "      <td>22.760065</td>\n",
       "      <td>2.682933</td>\n",
       "      <td>0.033536</td>\n",
       "      <td>1.090502</td>\n",
       "      <td>0.006083</td>\n",
       "      <td>0</td>\n",
       "    </tr>\n",
       "    <tr>\n",
       "      <th>2</th>\n",
       "      <td>1999-05-01 00:04:00</td>\n",
       "      <td>0</td>\n",
       "      <td>0.363848</td>\n",
       "      <td>-4.681394</td>\n",
       "      <td>-4.353147</td>\n",
       "      <td>14.127997</td>\n",
       "      <td>-0.138636</td>\n",
       "      <td>-17.836632</td>\n",
       "      <td>0.010803</td>\n",
       "      <td>-0.061114</td>\n",
       "      <td>...</td>\n",
       "      <td>29.984624</td>\n",
       "      <td>10.100265</td>\n",
       "      <td>-4.937924</td>\n",
       "      <td>-34.183774</td>\n",
       "      <td>27.004663</td>\n",
       "      <td>3.537487</td>\n",
       "      <td>0.033629</td>\n",
       "      <td>1.840540</td>\n",
       "      <td>0.006090</td>\n",
       "      <td>0</td>\n",
       "    </tr>\n",
       "    <tr>\n",
       "      <th>3</th>\n",
       "      <td>1999-05-01 00:06:00</td>\n",
       "      <td>0</td>\n",
       "      <td>0.301590</td>\n",
       "      <td>-4.758934</td>\n",
       "      <td>-4.023612</td>\n",
       "      <td>13.161566</td>\n",
       "      <td>-0.148142</td>\n",
       "      <td>-18.517601</td>\n",
       "      <td>0.002075</td>\n",
       "      <td>-0.061114</td>\n",
       "      <td>...</td>\n",
       "      <td>29.984624</td>\n",
       "      <td>10.104660</td>\n",
       "      <td>-4.938669</td>\n",
       "      <td>-35.954281</td>\n",
       "      <td>21.672449</td>\n",
       "      <td>3.986095</td>\n",
       "      <td>0.033721</td>\n",
       "      <td>2.554880</td>\n",
       "      <td>0.006097</td>\n",
       "      <td>0</td>\n",
       "    </tr>\n",
       "    <tr>\n",
       "      <th>4</th>\n",
       "      <td>1999-05-01 00:08:00</td>\n",
       "      <td>0</td>\n",
       "      <td>0.265578</td>\n",
       "      <td>-4.749928</td>\n",
       "      <td>-4.333150</td>\n",
       "      <td>15.267340</td>\n",
       "      <td>-0.155314</td>\n",
       "      <td>-17.505913</td>\n",
       "      <td>0.000732</td>\n",
       "      <td>-0.061114</td>\n",
       "      <td>...</td>\n",
       "      <td>29.984624</td>\n",
       "      <td>10.109054</td>\n",
       "      <td>-4.939414</td>\n",
       "      <td>-37.724789</td>\n",
       "      <td>21.907251</td>\n",
       "      <td>3.601573</td>\n",
       "      <td>0.033777</td>\n",
       "      <td>1.410494</td>\n",
       "      <td>0.006105</td>\n",
       "      <td>0</td>\n",
       "    </tr>\n",
       "  </tbody>\n",
       "</table>\n",
       "<p>5 rows × 62 columns</p>\n",
       "</div>"
      ],
      "text/plain": [
       "                 time  y        x1        x2        x3         x4        x5  \\\n",
       "0 1999-05-01 00:00:00  0  0.376665 -4.596435 -4.095756  13.497687 -0.118830   \n",
       "1 1999-05-01 00:02:00  0  0.475720 -4.542502 -4.018359  16.230659 -0.128733   \n",
       "2 1999-05-01 00:04:00  0  0.363848 -4.681394 -4.353147  14.127997 -0.138636   \n",
       "3 1999-05-01 00:06:00  0  0.301590 -4.758934 -4.023612  13.161566 -0.148142   \n",
       "4 1999-05-01 00:08:00  0  0.265578 -4.749928 -4.333150  15.267340 -0.155314   \n",
       "\n",
       "          x6        x7        x8  ...        x51        x52       x54  \\\n",
       "0 -20.669883  0.000732 -0.061114  ...  29.984624  10.091721 -4.936434   \n",
       "1 -18.758079  0.000732 -0.061114  ...  29.984624  10.095871 -4.937179   \n",
       "2 -17.836632  0.010803 -0.061114  ...  29.984624  10.100265 -4.937924   \n",
       "3 -18.517601  0.002075 -0.061114  ...  29.984624  10.104660 -4.938669   \n",
       "4 -17.505913  0.000732 -0.061114  ...  29.984624  10.109054 -4.939414   \n",
       "\n",
       "         x55        x56       x57       x58       x59       x60  y.1  \n",
       "0 -24.590146  18.515436  3.473400  0.033444  0.953219  0.006076    0  \n",
       "1 -32.413266  22.760065  2.682933  0.033536  1.090502  0.006083    0  \n",
       "2 -34.183774  27.004663  3.537487  0.033629  1.840540  0.006090    0  \n",
       "3 -35.954281  21.672449  3.986095  0.033721  2.554880  0.006097    0  \n",
       "4 -37.724789  21.907251  3.601573  0.033777  1.410494  0.006105    0  \n",
       "\n",
       "[5 rows x 62 columns]"
      ]
     },
     "execution_count": 6,
     "metadata": {},
     "output_type": "execute_result"
    }
   ],
   "source": [
    "df.head()"
   ]
  },
  {
   "cell_type": "code",
   "execution_count": 7,
   "id": "c79cabad-0c83-4c3d-8b31-613651f638c8",
   "metadata": {},
   "outputs": [
    {
     "name": "stdout",
     "output_type": "stream",
     "text": [
      "<class 'pandas.core.frame.DataFrame'>\n",
      "RangeIndex: 18398 entries, 0 to 18397\n",
      "Data columns (total 62 columns):\n",
      " #   Column  Non-Null Count  Dtype         \n",
      "---  ------  --------------  -----         \n",
      " 0   time    18398 non-null  datetime64[ns]\n",
      " 1   y       18398 non-null  int64         \n",
      " 2   x1      18398 non-null  float64       \n",
      " 3   x2      18398 non-null  float64       \n",
      " 4   x3      18398 non-null  float64       \n",
      " 5   x4      18398 non-null  float64       \n",
      " 6   x5      18398 non-null  float64       \n",
      " 7   x6      18398 non-null  float64       \n",
      " 8   x7      18398 non-null  float64       \n",
      " 9   x8      18398 non-null  float64       \n",
      " 10  x9      18398 non-null  float64       \n",
      " 11  x10     18398 non-null  float64       \n",
      " 12  x11     18398 non-null  float64       \n",
      " 13  x12     18398 non-null  float64       \n",
      " 14  x13     18398 non-null  float64       \n",
      " 15  x14     18398 non-null  float64       \n",
      " 16  x15     18398 non-null  float64       \n",
      " 17  x16     18398 non-null  float64       \n",
      " 18  x17     18398 non-null  float64       \n",
      " 19  x18     18398 non-null  float64       \n",
      " 20  x19     18398 non-null  float64       \n",
      " 21  x20     18398 non-null  float64       \n",
      " 22  x21     18398 non-null  float64       \n",
      " 23  x22     18398 non-null  float64       \n",
      " 24  x23     18398 non-null  float64       \n",
      " 25  x24     18398 non-null  float64       \n",
      " 26  x25     18398 non-null  float64       \n",
      " 27  x26     18398 non-null  float64       \n",
      " 28  x27     18398 non-null  float64       \n",
      " 29  x28     18398 non-null  int64         \n",
      " 30  x29     18398 non-null  float64       \n",
      " 31  x30     18398 non-null  float64       \n",
      " 32  x31     18398 non-null  float64       \n",
      " 33  x32     18398 non-null  float64       \n",
      " 34  x33     18398 non-null  float64       \n",
      " 35  x34     18398 non-null  float64       \n",
      " 36  x35     18398 non-null  float64       \n",
      " 37  x36     18398 non-null  float64       \n",
      " 38  x37     18398 non-null  float64       \n",
      " 39  x38     18398 non-null  float64       \n",
      " 40  x39     18398 non-null  float64       \n",
      " 41  x40     18398 non-null  float64       \n",
      " 42  x41     18398 non-null  float64       \n",
      " 43  x42     18398 non-null  float64       \n",
      " 44  x43     18398 non-null  float64       \n",
      " 45  x44     18398 non-null  float64       \n",
      " 46  x45     18398 non-null  float64       \n",
      " 47  x46     18398 non-null  float64       \n",
      " 48  x47     18398 non-null  float64       \n",
      " 49  x48     18398 non-null  float64       \n",
      " 50  x49     18398 non-null  float64       \n",
      " 51  x50     18398 non-null  float64       \n",
      " 52  x51     18398 non-null  float64       \n",
      " 53  x52     18398 non-null  float64       \n",
      " 54  x54     18398 non-null  float64       \n",
      " 55  x55     18398 non-null  float64       \n",
      " 56  x56     18398 non-null  float64       \n",
      " 57  x57     18398 non-null  float64       \n",
      " 58  x58     18398 non-null  float64       \n",
      " 59  x59     18398 non-null  float64       \n",
      " 60  x60     18398 non-null  float64       \n",
      " 61  y.1     18398 non-null  int64         \n",
      "dtypes: datetime64[ns](1), float64(58), int64(3)\n",
      "memory usage: 8.7 MB\n"
     ]
    }
   ],
   "source": [
    "df.info()"
   ]
  },
  {
   "cell_type": "markdown",
   "id": "0799d817-52e5-41c8-b63f-f9a9d025e6f6",
   "metadata": {},
   "source": [
    "finding the missing values"
   ]
  },
  {
   "cell_type": "code",
   "execution_count": 9,
   "id": "e8546987-b991-4832-abe7-3273f8a5d874",
   "metadata": {},
   "outputs": [
    {
     "name": "stdout",
     "output_type": "stream",
     "text": [
      "time    0.0\n",
      "y       0.0\n",
      "x1      0.0\n",
      "x2      0.0\n",
      "x3      0.0\n",
      "       ... \n",
      "x57     0.0\n",
      "x58     0.0\n",
      "x59     0.0\n",
      "x60     0.0\n",
      "y.1     0.0\n",
      "Length: 62, dtype: float64\n"
     ]
    }
   ],
   "source": [
    "print(df.isnull().sum()/len(df))"
   ]
  },
  {
   "cell_type": "markdown",
   "id": "f0ece5d8-38a4-44cf-8e68-ca806434e42b",
   "metadata": {},
   "source": [
    "There are no missing values"
   ]
  },
  {
   "cell_type": "markdown",
   "id": "2a37751a-6a0f-4858-9d1f-4a67d31d4520",
   "metadata": {},
   "source": [
    "Removing column y.1 and 'time'"
   ]
  },
  {
   "cell_type": "code",
   "execution_count": 35,
   "id": "ec5ac01a-59fb-41f6-8b1a-30b27230f29a",
   "metadata": {},
   "outputs": [],
   "source": [
    "df.drop(columns=['time','y.1'],inplace=True)"
   ]
  },
  {
   "cell_type": "markdown",
   "id": "9750dc5a-06e6-4cc1-864c-b3aa0adc9e06",
   "metadata": {},
   "source": [
    "Understanding the distribution of x19 "
   ]
  },
  {
   "cell_type": "code",
   "execution_count": 25,
   "id": "784fa8f4-6727-42b2-b636-66f7ddf118a4",
   "metadata": {},
   "outputs": [
    {
     "name": "stderr",
     "output_type": "stream",
     "text": [
      "/opt/anaconda3/lib/python3.11/site-packages/seaborn/_oldcore.py:1119: FutureWarning: use_inf_as_na option is deprecated and will be removed in a future version. Convert inf values to NaN before operating instead.\n",
      "  with pd.option_context('mode.use_inf_as_na', True):\n"
     ]
    },
    {
     "data": {
      "image/png": "[encoded data removed]",
      "text/plain": [
       "<Figure size 640x480 with 1 Axes>"
      ]
     },
     "metadata": {},
     "output_type": "display_data"
    }
   ],
   "source": [
    "sns.histplot(data=df,x='x19',hue='y',multiple='stack', kde=False)\n",
    "plt.title(\"Distribution of x19\")\n",
    "plt.show()"
   ]
  },
  {
   "cell_type": "markdown",
   "id": "2e650064-7776-4868-8e7d-984c3ddf9838",
   "metadata": {},
   "source": [
    "The plot is stretched because of the outliers"
   ]
  },
  {
   "cell_type": "markdown",
   "id": "ea1e0502-2606-499b-ae01-a9f507645c08",
   "metadata": {},
   "source": [
    "Splitting features and target"
   ]
  },
  {
   "cell_type": "code",
   "execution_count": 36,
   "id": "6e53b03d-487a-4a6d-ae7a-aac092c984bc",
   "metadata": {},
   "outputs": [],
   "source": [
    "X=df.drop(columns=['y'])\n",
    "y=df['y']                "
   ]
  },
  {
   "cell_type": "markdown",
   "id": "fc4d53e2-9e5f-4e53-abe8-82b054d5cdb7",
   "metadata": {},
   "source": [
    "Scaling the data"
   ]
  },
  {
   "cell_type": "code",
   "execution_count": 27,
   "id": "75f301a1-fd2e-4439-964b-0fd5f82271af",
   "metadata": {},
   "outputs": [],
   "source": [
    "from sklearn.preprocessing import StandardScaler"
   ]
  },
  {
   "cell_type": "code",
   "execution_count": 37,
   "id": "131c8faf-cca0-47f6-9905-00dd325b1fc2",
   "metadata": {},
   "outputs": [],
   "source": [
    "numerical_transformer=StandardScaler()"
   ]
  },
  {
   "cell_type": "code",
   "execution_count": 38,
   "id": "fa0801d8-dca9-4f7e-ba91-1ffca388b10a",
   "metadata": {},
   "outputs": [],
   "source": [
    "X_Scaled=numerical_transformer.fit_transform(X)"
   ]
  },
  {
   "cell_type": "markdown",
   "id": "62331a53-c957-4ff5-b1d0-d58dce7ab99d",
   "metadata": {},
   "source": [
    "Splitting the data for training and testing"
   ]
  },
  {
   "cell_type": "code",
   "execution_count": 30,
   "id": "1affa624-5b73-4b13-9dc6-acf09d13c3c5",
   "metadata": {},
   "outputs": [],
   "source": [
    "from sklearn.model_selection import train_test_split"
   ]
  },
  {
   "cell_type": "code",
   "execution_count": 39,
   "id": "b1ec02fc-0f26-418c-b9f4-9e35e897383e",
   "metadata": {},
   "outputs": [],
   "source": [
    "X_train, X_test, y_train, y_test = train_test_split(X_Scaled, y, test_size=0.2, random_state=42)"
   ]
  },
  {
   "cell_type": "markdown",
   "id": "f04c31ce-d220-45a3-9265-78838bb86ea3",
   "metadata": {},
   "source": [
    "Copying the data to data folder"
   ]
  },
  {
   "cell_type": "code",
   "execution_count": 43,
   "id": "473dee72-16ea-4542-bc61-088af5abbb82",
   "metadata": {},
   "outputs": [],
   "source": [
    "X_train=pd.DataFrame(data=X_train,columns=X.columns)\n",
    "X_test=pd.DataFrame(data=X_test,columns=X.columns)\n",
    "y_train=pd.DataFrame(data=y_train)\n",
    "y_test=pd.DataFrame(data=y_test)"
   ]
  },
  {
   "cell_type": "code",
   "execution_count": 45,
   "id": "cc929d6e-7e21-4e86-9a69-e89c83184dab",
   "metadata": {},
   "outputs": [],
   "source": [
    "X_train.to_csv(\"/Users/kuriankgeorge/Desktop/aws/Capstone/01_Anoma/data/X_train.csv\")\n",
    "X_test.to_csv(\"/Users/kuriankgeorge/Desktop/aws/Capstone/01_Anoma/data/X_test.csv\")\n",
    "y_train.to_csv(\"/Users/kuriankgeorge/Desktop/aws/Capstone/01_Anoma/data/y_train.csv\")\n",
    "y_test.to_csv(\"/Users/kuriankgeorge/Desktop/aws/Capstone/01_Anoma/data/y_test.csv\")"
   ]
  },
  {
   "cell_type": "markdown",
   "id": "c457c1d9-d302-4a46-9fa6-50f3e81ff8b3",
   "metadata": {},
   "source": [
    "Modeling using random forest classifier"
   ]
  },
  {
   "cell_type": "code",
   "execution_count": 46,
   "id": "cffeae18-a2f2-4ba6-8886-33616cb86a31",
   "metadata": {},
   "outputs": [],
   "source": [
    "from sklearn.ensemble import RandomForestClassifier\n",
    "from sklearn.model_selection import RandomizedSearchCV\n",
    "from sklearn.metrics import accuracy_score"
   ]
  },
  {
   "cell_type": "code",
   "execution_count": 47,
   "id": "1a96742d-f649-4d2c-b365-4776ae038ea6",
   "metadata": {},
   "outputs": [],
   "source": [
    "rf = RandomForestClassifier(random_state=42)"
   ]
  },
  {
   "cell_type": "code",
   "execution_count": 48,
   "id": "f5358153-0f68-435b-a999-0fbfed70f207",
   "metadata": {},
   "outputs": [],
   "source": [
    "param_grid = {\n",
    "    'n_estimators': [10, 20, 50, 100],  # Number of trees\n",
    "    'max_depth': [None, 10, 20, 30],     # Maximum depth of the trees\n",
    "    'min_samples_split': [0.025,0.05,0.1,0.25,0.5],     # Minimum number of samples to split an internal node     \n",
    "    'bootstrap': [True, False]           # Whether bootstrap samples are used when building trees\n",
    "}"
   ]
  },
  {
   "cell_type": "code",
   "execution_count": 49,
   "id": "6815fc30-2b4e-405d-95fb-1cdd156d0a4b",
   "metadata": {},
   "outputs": [],
   "source": [
    "rf_random = RandomizedSearchCV(estimator=rf, param_distributions=param_grid, n_iter=10, \n",
    "                               cv=3, verbose=2, random_state=42, n_jobs=-1)"
   ]
  },
  {
   "cell_type": "code",
   "execution_count": 50,
   "id": "6fd9c977-32e2-4d55-88c4-f37f294d46b6",
   "metadata": {},
   "outputs": [
    {
     "name": "stdout",
     "output_type": "stream",
     "text": [
      "Fitting 3 folds for each of 10 candidates, totalling 30 fits\n"
     ]
    },
    {
     "name": "stderr",
     "output_type": "stream",
     "text": [
      "/opt/anaconda3/lib/python3.11/site-packages/sklearn/model_selection/_validation.py:686: DataConversionWarning: A column-vector y was passed when a 1d array was expected. Please change the shape of y to (n_samples,), for example using ravel().\n",
      "  estimator.fit(X_train, y_train, **fit_params)\n",
      "/opt/anaconda3/lib/python3.11/site-packages/sklearn/model_selection/_validation.py:686: DataConversionWarning: A column-vector y was passed when a 1d array was expected. Please change the shape of y to (n_samples,), for example using ravel().\n",
      "  estimator.fit(X_train, y_train, **fit_params)\n",
      "/opt/anaconda3/lib/python3.11/site-packages/sklearn/model_selection/_validation.py:686: DataConversionWarning: A column-vector y was passed when a 1d array was expected. Please change the shape of y to (n_samples,), for example using ravel().\n",
      "  estimator.fit(X_train, y_train, **fit_params)\n",
      "/opt/anaconda3/lib/python3.11/site-packages/sklearn/model_selection/_validation.py:686: DataConversionWarning: A column-vector y was passed when a 1d array was expected. Please change the shape of y to (n_samples,), for example using ravel().\n",
      "  estimator.fit(X_train, y_train, **fit_params)\n",
      "/opt/anaconda3/lib/python3.11/site-packages/sklearn/model_selection/_validation.py:686: DataConversionWarning: A column-vector y was passed when a 1d array was expected. Please change the shape of y to (n_samples,), for example using ravel().\n",
      "  estimator.fit(X_train, y_train, **fit_params)\n",
      "/opt/anaconda3/lib/python3.11/site-packages/sklearn/model_selection/_validation.py:686: DataConversionWarning: A column-vector y was passed when a 1d array was expected. Please change the shape of y to (n_samples,), for example using ravel().\n",
      "  estimator.fit(X_train, y_train, **fit_params)\n",
      "/opt/anaconda3/lib/python3.11/site-packages/sklearn/model_selection/_validation.py:686: DataConversionWarning: A column-vector y was passed when a 1d array was expected. Please change the shape of y to (n_samples,), for example using ravel().\n",
      "  estimator.fit(X_train, y_train, **fit_params)\n",
      "/opt/anaconda3/lib/python3.11/site-packages/sklearn/model_selection/_validation.py:686: DataConversionWarning: A column-vector y was passed when a 1d array was expected. Please change the shape of y to (n_samples,), for example using ravel().\n",
      "  estimator.fit(X_train, y_train, **fit_params)\n",
      "/opt/anaconda3/lib/python3.11/site-packages/sklearn/model_selection/_validation.py:686: DataConversionWarning: A column-vector y was passed when a 1d array was expected. Please change the shape of y to (n_samples,), for example using ravel().\n",
      "  estimator.fit(X_train, y_train, **fit_params)\n",
      "/opt/anaconda3/lib/python3.11/site-packages/sklearn/model_selection/_validation.py:686: DataConversionWarning: A column-vector y was passed when a 1d array was expected. Please change the shape of y to (n_samples,), for example using ravel().\n",
      "  estimator.fit(X_train, y_train, **fit_params)\n",
      "/opt/anaconda3/lib/python3.11/site-packages/sklearn/model_selection/_validation.py:686: DataConversionWarning: A column-vector y was passed when a 1d array was expected. Please change the shape of y to (n_samples,), for example using ravel().\n",
      "  estimator.fit(X_train, y_train, **fit_params)\n",
      "/opt/anaconda3/lib/python3.11/site-packages/sklearn/model_selection/_validation.py:686: DataConversionWarning: A column-vector y was passed when a 1d array was expected. Please change the shape of y to (n_samples,), for example using ravel().\n",
      "  estimator.fit(X_train, y_train, **fit_params)\n",
      "/opt/anaconda3/lib/python3.11/site-packages/sklearn/model_selection/_validation.py:686: DataConversionWarning: A column-vector y was passed when a 1d array was expected. Please change the shape of y to (n_samples,), for example using ravel().\n",
      "  estimator.fit(X_train, y_train, **fit_params)\n",
      "/opt/anaconda3/lib/python3.11/site-packages/sklearn/model_selection/_validation.py:686: DataConversionWarning: A column-vector y was passed when a 1d array was expected. Please change the shape of y to (n_samples,), for example using ravel().\n",
      "  estimator.fit(X_train, y_train, **fit_params)\n",
      "/opt/anaconda3/lib/python3.11/site-packages/sklearn/model_selection/_validation.py:686: DataConversionWarning: A column-vector y was passed when a 1d array was expected. Please change the shape of y to (n_samples,), for example using ravel().\n",
      "  estimator.fit(X_train, y_train, **fit_params)\n",
      "/opt/anaconda3/lib/python3.11/site-packages/sklearn/model_selection/_validation.py:686: DataConversionWarning: A column-vector y was passed when a 1d array was expected. Please change the shape of y to (n_samples,), for example using ravel().\n",
      "  estimator.fit(X_train, y_train, **fit_params)\n",
      "/opt/anaconda3/lib/python3.11/site-packages/sklearn/model_selection/_validation.py:686: DataConversionWarning: A column-vector y was passed when a 1d array was expected. Please change the shape of y to (n_samples,), for example using ravel().\n",
      "  estimator.fit(X_train, y_train, **fit_params)\n",
      "/opt/anaconda3/lib/python3.11/site-packages/sklearn/model_selection/_validation.py:686: DataConversionWarning: A column-vector y was passed when a 1d array was expected. Please change the shape of y to (n_samples,), for example using ravel().\n",
      "  estimator.fit(X_train, y_train, **fit_params)\n",
      "/opt/anaconda3/lib/python3.11/site-packages/sklearn/model_selection/_validation.py:686: DataConversionWarning: A column-vector y was passed when a 1d array was expected. Please change the shape of y to (n_samples,), for example using ravel().\n",
      "  estimator.fit(X_train, y_train, **fit_params)\n",
      "/opt/anaconda3/lib/python3.11/site-packages/sklearn/model_selection/_validation.py:686: DataConversionWarning: A column-vector y was passed when a 1d array was expected. Please change the shape of y to (n_samples,), for example using ravel().\n",
      "  estimator.fit(X_train, y_train, **fit_params)\n",
      "/opt/anaconda3/lib/python3.11/site-packages/sklearn/model_selection/_validation.py:686: DataConversionWarning: A column-vector y was passed when a 1d array was expected. Please change the shape of y to (n_samples,), for example using ravel().\n",
      "  estimator.fit(X_train, y_train, **fit_params)\n",
      "/opt/anaconda3/lib/python3.11/site-packages/sklearn/model_selection/_validation.py:686: DataConversionWarning: A column-vector y was passed when a 1d array was expected. Please change the shape of y to (n_samples,), for example using ravel().\n",
      "  estimator.fit(X_train, y_train, **fit_params)\n",
      "/opt/anaconda3/lib/python3.11/site-packages/sklearn/model_selection/_validation.py:686: DataConversionWarning: A column-vector y was passed when a 1d array was expected. Please change the shape of y to (n_samples,), for example using ravel().\n",
      "  estimator.fit(X_train, y_train, **fit_params)\n",
      "/opt/anaconda3/lib/python3.11/site-packages/sklearn/model_selection/_validation.py:686: DataConversionWarning: A column-vector y was passed when a 1d array was expected. Please change the shape of y to (n_samples,), for example using ravel().\n",
      "  estimator.fit(X_train, y_train, **fit_params)\n",
      "/opt/anaconda3/lib/python3.11/site-packages/sklearn/model_selection/_validation.py:686: DataConversionWarning: A column-vector y was passed when a 1d array was expected. Please change the shape of y to (n_samples,), for example using ravel().\n",
      "  estimator.fit(X_train, y_train, **fit_params)\n",
      "/opt/anaconda3/lib/python3.11/site-packages/sklearn/model_selection/_validation.py:686: DataConversionWarning: A column-vector y was passed when a 1d array was expected. Please change the shape of y to (n_samples,), for example using ravel().\n",
      "  estimator.fit(X_train, y_train, **fit_params)\n",
      "/opt/anaconda3/lib/python3.11/site-packages/sklearn/model_selection/_validation.py:686: DataConversionWarning: A column-vector y was passed when a 1d array was expected. Please change the shape of y to (n_samples,), for example using ravel().\n",
      "  estimator.fit(X_train, y_train, **fit_params)\n",
      "/opt/anaconda3/lib/python3.11/site-packages/sklearn/model_selection/_validation.py:686: DataConversionWarning: A column-vector y was passed when a 1d array was expected. Please change the shape of y to (n_samples,), for example using ravel().\n",
      "  estimator.fit(X_train, y_train, **fit_params)\n",
      "/opt/anaconda3/lib/python3.11/site-packages/sklearn/model_selection/_validation.py:686: DataConversionWarning: A column-vector y was passed when a 1d array was expected. Please change the shape of y to (n_samples,), for example using ravel().\n",
      "  estimator.fit(X_train, y_train, **fit_params)\n",
      "/opt/anaconda3/lib/python3.11/site-packages/sklearn/model_selection/_validation.py:686: DataConversionWarning: A column-vector y was passed when a 1d array was expected. Please change the shape of y to (n_samples,), for example using ravel().\n",
      "  estimator.fit(X_train, y_train, **fit_params)\n",
      "/opt/anaconda3/lib/python3.11/site-packages/sklearn/model_selection/_search.py:910: DataConversionWarning: A column-vector y was passed when a 1d array was expected. Please change the shape of y to (n_samples,), for example using ravel().\n",
      "  self.best_estimator_.fit(X, y, **fit_params)\n"
     ]
    },
    {
     "data": {
      "text/html": [
       "<style>#sk-container-id-1 {color: black;background-color: white;}#sk-container-id-1 pre{padding: 0;}#sk-container-id-1 div.sk-toggleable {background-color: white;}#sk-container-id-1 label.sk-toggleable__label {cursor: pointer;display: block;width: 100%;margin-bottom: 0;padding: 0.3em;box-sizing: border-box;text-align: center;}#sk-container-id-1 label.sk-toggleable__label-arrow:before {content: \"▸\";float: left;margin-right: 0.25em;color: #696969;}#sk-container-id-1 label.sk-toggleable__label-arrow:hover:before {color: black;}#sk-container-id-1 div.sk-estimator:hover label.sk-toggleable__label-arrow:before {color: black;}#sk-container-id-1 div.sk-toggleable__content {max-height: 0;max-width: 0;overflow: hidden;text-align: left;background-color: #f0f8ff;}#sk-container-id-1 div.sk-toggleable__content pre {margin: 0.2em;color: black;border-radius: 0.25em;background-color: #f0f8ff;}#sk-container-id-1 input.sk-toggleable__control:checked~div.sk-toggleable__content {max-height: 200px;max-width: 100%;overflow: auto;}#sk-container-id-1 input.sk-toggleable__control:checked~label.sk-toggleable__label-arrow:before {content: \"▾\";}#sk-container-id-1 div.sk-estimator input.sk-toggleable__control:checked~label.sk-toggleable__label {background-color: #d4ebff;}#sk-container-id-1 div.sk-label input.sk-toggleable__control:checked~label.sk-toggleable__label {background-color: #d4ebff;}#sk-container-id-1 input.sk-hidden--visually {border: 0;clip: rect(1px 1px 1px 1px);clip: rect(1px, 1px, 1px, 1px);height: 1px;margin: -1px;overflow: hidden;padding: 0;position: absolute;width: 1px;}#sk-container-id-1 div.sk-estimator {font-family: monospace;background-color: #f0f8ff;border: 1px dotted black;border-radius: 0.25em;box-sizing: border-box;margin-bottom: 0.5em;}#sk-container-id-1 div.sk-estimator:hover {background-color: #d4ebff;}#sk-container-id-1 div.sk-parallel-item::after {content: \"\";width: 100%;border-bottom: 1px solid gray;flex-grow: 1;}#sk-container-id-1 div.sk-label:hover label.sk-toggleable__label {background-color: #d4ebff;}#sk-container-id-1 div.sk-serial::before {content: \"\";position: absolute;border-left: 1px solid gray;box-sizing: border-box;top: 0;bottom: 0;left: 50%;z-index: 0;}#sk-container-id-1 div.sk-serial {display: flex;flex-direction: column;align-items: center;background-color: white;padding-right: 0.2em;padding-left: 0.2em;position: relative;}#sk-container-id-1 div.sk-item {position: relative;z-index: 1;}#sk-container-id-1 div.sk-parallel {display: flex;align-items: stretch;justify-content: center;background-color: white;position: relative;}#sk-container-id-1 div.sk-item::before, #sk-container-id-1 div.sk-parallel-item::before {content: \"\";position: absolute;border-left: 1px solid gray;box-sizing: border-box;top: 0;bottom: 0;left: 50%;z-index: -1;}#sk-container-id-1 div.sk-parallel-item {display: flex;flex-direction: column;z-index: 1;position: relative;background-color: white;}#sk-container-id-1 div.sk-parallel-item:first-child::after {align-self: flex-end;width: 50%;}#sk-container-id-1 div.sk-parallel-item:last-child::after {align-self: flex-start;width: 50%;}#sk-container-id-1 div.sk-parallel-item:only-child::after {width: 0;}#sk-container-id-1 div.sk-dashed-wrapped {border: 1px dashed gray;margin: 0 0.4em 0.5em 0.4em;box-sizing: border-box;padding-bottom: 0.4em;background-color: white;}#sk-container-id-1 div.sk-label label {font-family: monospace;font-weight: bold;display: inline-block;line-height: 1.2em;}#sk-container-id-1 div.sk-label-container {text-align: center;}#sk-container-id-1 div.sk-container {/* jupyter's `normalize.less` sets `[hidden] { display: none; }` but bootstrap.min.css set `[hidden] { display: none !important; }` so we also need the `!important` here to be able to override the default hidden behavior on the sphinx rendered scikit-learn.org. See: https://github.com/scikit-learn/scikit-learn/issues/21755 */display: inline-block !important;position: relative;}#sk-container-id-1 div.sk-text-repr-fallback {display: none;}</style><div id=\"sk-container-id-1\" class=\"sk-top-container\"><div class=\"sk-text-repr-fallback\"><pre>RandomizedSearchCV(cv=3, estimator=RandomForestClassifier(random_state=42),\n",
       "                   n_jobs=-1,\n",
       "                   param_distributions={&#x27;bootstrap&#x27;: [True, False],\n",
       "                                        &#x27;max_depth&#x27;: [None, 10, 20, 30],\n",
       "                                        &#x27;min_samples_split&#x27;: [0.025, 0.05, 0.1,\n",
       "                                                              0.25, 0.5],\n",
       "                                        &#x27;n_estimators&#x27;: [10, 20, 50, 100]},\n",
       "                   random_state=42, verbose=2)</pre><b>In a Jupyter environment, please rerun this cell to show the HTML representation or trust the notebook. <br />On GitHub, the HTML representation is unable to render, please try loading this page with nbviewer.org.</b></div><div class=\"sk-container\" hidden><div class=\"sk-item sk-dashed-wrapped\"><div class=\"sk-label-container\"><div class=\"sk-label sk-toggleable\"><input class=\"sk-toggleable__control sk-hidden--visually\" id=\"sk-estimator-id-1\" type=\"checkbox\" ><label for=\"sk-estimator-id-1\" class=\"sk-toggleable__label sk-toggleable__label-arrow\">RandomizedSearchCV</label><div class=\"sk-toggleable__content\"><pre>RandomizedSearchCV(cv=3, estimator=RandomForestClassifier(random_state=42),\n",
       "                   n_jobs=-1,\n",
       "                   param_distributions={&#x27;bootstrap&#x27;: [True, False],\n",
       "                                        &#x27;max_depth&#x27;: [None, 10, 20, 30],\n",
       "                                        &#x27;min_samples_split&#x27;: [0.025, 0.05, 0.1,\n",
       "                                                              0.25, 0.5],\n",
       "                                        &#x27;n_estimators&#x27;: [10, 20, 50, 100]},\n",
       "                   random_state=42, verbose=2)</pre></div></div></div><div class=\"sk-parallel\"><div class=\"sk-parallel-item\"><div class=\"sk-item\"><div class=\"sk-label-container\"><div class=\"sk-label sk-toggleable\"><input class=\"sk-toggleable__control sk-hidden--visually\" id=\"sk-estimator-id-2\" type=\"checkbox\" ><label for=\"sk-estimator-id-2\" class=\"sk-toggleable__label sk-toggleable__label-arrow\">estimator: RandomForestClassifier</label><div class=\"sk-toggleable__content\"><pre>RandomForestClassifier(random_state=42)</pre></div></div></div><div class=\"sk-serial\"><div class=\"sk-item\"><div class=\"sk-estimator sk-toggleable\"><input class=\"sk-toggleable__control sk-hidden--visually\" id=\"sk-estimator-id-3\" type=\"checkbox\" ><label for=\"sk-estimator-id-3\" class=\"sk-toggleable__label sk-toggleable__label-arrow\">RandomForestClassifier</label><div class=\"sk-toggleable__content\"><pre>RandomForestClassifier(random_state=42)</pre></div></div></div></div></div></div></div></div></div></div>"
      ],
      "text/plain": [
       "RandomizedSearchCV(cv=3, estimator=RandomForestClassifier(random_state=42),\n",
       "                   n_jobs=-1,\n",
       "                   param_distributions={'bootstrap': [True, False],\n",
       "                                        'max_depth': [None, 10, 20, 30],\n",
       "                                        'min_samples_split': [0.025, 0.05, 0.1,\n",
       "                                                              0.25, 0.5],\n",
       "                                        'n_estimators': [10, 20, 50, 100]},\n",
       "                   random_state=42, verbose=2)"
      ]
     },
     "execution_count": 50,
     "metadata": {},
     "output_type": "execute_result"
    },
    {
     "name": "stdout",
     "output_type": "stream",
     "text": [
      "[CV] END bootstrap=False, max_depth=10, min_samples_split=0.05, n_estimators=20; total time=   2.4s\n",
      "[CV] END bootstrap=False, max_depth=30, min_samples_split=0.025, n_estimators=20; total time=   3.2s\n",
      "[CV] END bootstrap=True, max_depth=20, min_samples_split=0.25, n_estimators=100; total time=   8.7s\n",
      "[CV] END bootstrap=True, max_depth=10, min_samples_split=0.1, n_estimators=20; total time=   1.4s\n",
      "[CV] END bootstrap=False, max_depth=10, min_samples_split=0.025, n_estimators=20; total time=   2.8s\n",
      "[CV] END bootstrap=False, max_depth=10, min_samples_split=0.025, n_estimators=20; total time=   2.3s\n",
      "[CV] END bootstrap=True, max_depth=20, min_samples_split=0.1, n_estimators=100; total time=   9.2s\n",
      "[CV] END bootstrap=False, max_depth=10, min_samples_split=0.05, n_estimators=20; total time=   2.6s\n",
      "[CV] END bootstrap=False, max_depth=30, min_samples_split=0.025, n_estimators=20; total time=   3.1s\n",
      "[CV] END bootstrap=False, max_depth=None, min_samples_split=0.25, n_estimators=50; total time=   8.1s\n",
      "[CV] END bootstrap=False, max_depth=None, min_samples_split=0.25, n_estimators=50; total time=   7.6s\n",
      "[CV] END bootstrap=False, max_depth=10, min_samples_split=0.025, n_estimators=10; total time=   1.2s\n",
      "[CV] END bootstrap=False, max_depth=10, min_samples_split=0.025, n_estimators=10; total time=   1.2s\n",
      "[CV] END bootstrap=False, max_depth=10, min_samples_split=0.025, n_estimators=10; total time=   1.1s\n",
      "[CV] END bootstrap=False, max_depth=30, min_samples_split=0.025, n_estimators=50; total time=  11.2s\n",
      "[CV] END bootstrap=False, max_depth=10, min_samples_split=0.1, n_estimators=10; total time=   1.2s\n",
      "[CV] END bootstrap=False, max_depth=10, min_samples_split=0.1, n_estimators=10; total time=   1.3s\n",
      "[CV] END bootstrap=False, max_depth=30, min_samples_split=0.025, n_estimators=20; total time=   2.8s\n",
      "[CV] END bootstrap=True, max_depth=20, min_samples_split=0.25, n_estimators=100; total time=   8.5s\n",
      "[CV] END bootstrap=True, max_depth=10, min_samples_split=0.1, n_estimators=20; total time=   1.4s\n",
      "[CV] END bootstrap=True, max_depth=10, min_samples_split=0.1, n_estimators=20; total time=   1.5s\n",
      "[CV] END bootstrap=False, max_depth=10, min_samples_split=0.025, n_estimators=20; total time=   2.7s\n",
      "[CV] END bootstrap=True, max_depth=20, min_samples_split=0.1, n_estimators=100; total time=   8.3s\n",
      "[CV] END bootstrap=False, max_depth=30, min_samples_split=0.025, n_estimators=50; total time=  10.7s\n",
      "[CV] END bootstrap=False, max_depth=10, min_samples_split=0.05, n_estimators=20; total time=   2.4s\n",
      "[CV] END bootstrap=False, max_depth=10, min_samples_split=0.1, n_estimators=10; total time=   1.1s\n",
      "[CV] END bootstrap=True, max_depth=20, min_samples_split=0.25, n_estimators=100; total time=   8.6s\n",
      "[CV] END bootstrap=False, max_depth=None, min_samples_split=0.25, n_estimators=50; total time=   7.3s\n",
      "[CV] END bootstrap=True, max_depth=20, min_samples_split=0.1, n_estimators=100; total time=   8.7s\n",
      "[CV] END bootstrap=False, max_depth=30, min_samples_split=0.025, n_estimators=50; total time=  11.2s\n"
     ]
    }
   ],
   "source": [
    "rf_random.fit(X_train, y_train)"
   ]
  },
  {
   "cell_type": "markdown",
   "id": "8d395576-1844-4f05-979b-c1ce573e3593",
   "metadata": {},
   "source": [
    "Finding the best parameters"
   ]
  },
  {
   "cell_type": "code",
   "execution_count": 51,
   "id": "e3890dc1-9767-4577-a8c5-2244bfaab753",
   "metadata": {},
   "outputs": [
    {
     "name": "stdout",
     "output_type": "stream",
     "text": [
      "Best Hyperparameters: {'n_estimators': 10, 'min_samples_split': 0.1, 'max_depth': 10, 'bootstrap': False}\n"
     ]
    }
   ],
   "source": [
    "best_params = rf_random.best_params_\n",
    "print(f\"Best Hyperparameters: {best_params}\")"
   ]
  },
  {
   "cell_type": "markdown",
   "id": "04b75f57-6198-4eb8-9630-f7b0b7b3cc3b",
   "metadata": {},
   "source": [
    "Fitting the best model"
   ]
  },
  {
   "cell_type": "code",
   "execution_count": 52,
   "id": "a8c1a723-1a51-4e01-b15b-4130b80dd81c",
   "metadata": {},
   "outputs": [],
   "source": [
    "best_rf = rf_random.best_estimator_"
   ]
  },
  {
   "cell_type": "markdown",
   "id": "248da5fd-fbe8-4dbf-a818-75db4af5ef71",
   "metadata": {},
   "source": [
    "Checking the accuracy of test and train data"
   ]
  },
  {
   "cell_type": "code",
   "execution_count": 53,
   "id": "5e4d5f06-4a6d-4a41-84ef-991924567276",
   "metadata": {},
   "outputs": [
    {
     "name": "stdout",
     "output_type": "stream",
     "text": [
      "Accuracy on the test set: 0.9953804347826087\n",
      "Accuracy on the train set: 0.9938850387280881\n"
     ]
    }
   ],
   "source": [
    "y_pred_test = best_rf.predict(X_test)\n",
    "accuracy_test = accuracy_score(y_test, y_pred_test)\n",
    "print(f\"Accuracy on the test set: {accuracy_test}\")\n",
    "y_pred_train=best_rf.predict(X_train)\n",
    "accuracy_train = accuracy_score(y_train, y_pred_train)\n",
    "print(f\"Accuracy on the train set: {accuracy_train}\")"
   ]
  },
  {
   "cell_type": "markdown",
   "id": "ba1b58eb-5244-4eba-9c71-54add7d108f4",
   "metadata": {},
   "source": [
    "We can see accuracy over 99% for both test and train data"
   ]
  },
  {
   "cell_type": "markdown",
   "id": "47765e6e-593d-427b-b1a1-6ddfb7c5fcf2",
   "metadata": {},
   "source": [
    "Saving the model"
   ]
  },
  {
   "cell_type": "code",
   "execution_count": 54,
   "id": "6795a7b7-3eb8-4e30-961b-1873ac1fac78",
   "metadata": {},
   "outputs": [],
   "source": [
    "import joblib"
   ]
  },
  {
   "cell_type": "code",
   "execution_count": 55,
   "id": "82915557-7f7f-47e2-86aa-a26433231645",
   "metadata": {},
   "outputs": [
    {
     "data": {
      "text/plain": [
       "['/Users/kuriankgeorge/Desktop/aws/Capstone/01_Anoma/model/best_random_forest_model.pkl']"
      ]
     },
     "execution_count": 55,
     "metadata": {},
     "output_type": "execute_result"
    }
   ],
   "source": [
    "joblib.dump(best_rf, \"/Users/kuriankgeorge/Desktop/aws/Capstone/01_Anoma/model/best_random_forest_model.pkl\")"
   ]
  },
  {
   "cell_type": "markdown",
   "id": "fb9e45c3-7b9b-4fe9-b190-5efbaea25467",
   "metadata": {},
   "source": [
    "Load the model for testing again"
   ]
  },
  {
   "cell_type": "code",
   "execution_count": 56,
   "id": "37ed6775-053c-4284-b456-85470209ed56",
   "metadata": {},
   "outputs": [],
   "source": [
    "best_rf_loaded = joblib.load('/Users/kuriankgeorge/Desktop/aws/Capstone/01_Anoma/model/best_random_forest_model.pkl')"
   ]
  },
  {
   "cell_type": "code",
   "execution_count": 57,
   "id": "6994ec62-c27a-4513-ad5c-eb97aa03fd68",
   "metadata": {},
   "outputs": [
    {
     "name": "stdout",
     "output_type": "stream",
     "text": [
      "Accuracy on the test set: 0.9953804347826087\n"
     ]
    }
   ],
   "source": [
    "y_pred_test = best_rf_loaded.predict(X_test)\n",
    "accuracy_test = accuracy_score(y_test, y_pred_test)\n",
    "print(f\"Accuracy on the test set: {accuracy_test}\")"
   ]
  },
  {
   "cell_type": "code",
   "execution_count": null,
   "id": "9f2b4f88-18dd-4f76-9111-26cfcad2b916",
   "metadata": {},
   "outputs": [],
   "source": []
  }
 ],
 "metadata": {
  "kernelspec": {
   "display_name": "Python 3 (ipykernel)",
   "language": "python",
   "name": "python3"
  },
  "language_info": {
   "codemirror_mode": {
    "name": "ipython",
    "version": 3
   },
   "file_extension": ".py",
   "mimetype": "text/x-python",
   "name": "python",
   "nbconvert_exporter": "python",
   "pygments_lexer": "ipython3",
   "version": "3.11.7"
  }
 },
 "nbformat": 4,
 "nbformat_minor": 5
}
